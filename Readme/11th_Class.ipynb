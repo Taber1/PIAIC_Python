{
 "cells": [
  {
   "cell_type": "code",
   "execution_count": 1,
   "metadata": {},
   "outputs": [],
   "source": [
    "class Car():\n",
    "    def __init__(self,make,model,year):\n",
    "        self.make=make\n",
    "        self.model=model\n",
    "        self.year=year\n",
    "        self.odometer_reading=0\n",
    "        \n",
    "    def get_descriptive_name(self):\n",
    "        long_name=str(self.year)+' '+self.make+' '+self.model\n",
    "        return long_name.title()\n",
    "    def read_odometer(self):\n",
    "        print(\"This car has \"+str(self.odometer_reading)+\" miles on it.\")\n",
    "    def update_odometer(self,mileage):\n",
    "        self.odometer_reading=mileage        \n",
    "    def increment_odometer(self,miles):\n",
    "        self.odometer_reading += miles\n",
    "    def getFuelTankCapacity(self):\n",
    "        print(\"Car has 100 litres tank\")"
   ]
  },
  {
   "cell_type": "code",
   "execution_count": 12,
   "metadata": {},
   "outputs": [],
   "source": [
    "class ElectricCar(Car):\n",
    "    def __init__(self,make,model,year):\n",
    "        super(). __init__(make,model,year)\n",
    "        self.battery=100\n",
    "        self.engine=\"2000CC\"\n",
    "        self.software=\"Android\"\n",
    "    def getBatterysize(self):\n",
    "        print(f\"the battery size is{self.battery}\")\n",
    "    def setBatterysize(self,newBaterysize):\n",
    "        self.battery=newBatterysize\n",
    "    def getFuelTankCapacity(self): #redefined parent class function in child class\n",
    "        print(\"Electric car does not have fuel tank\")"
   ]
  },
  {
   "cell_type": "code",
   "execution_count": 13,
   "metadata": {},
   "outputs": [],
   "source": [
    "ecar=ElectricCar(\"tesla\",\"Roadster\",2019)"
   ]
  },
  {
   "cell_type": "code",
   "execution_count": 7,
   "metadata": {},
   "outputs": [],
   "source": [
    "ecar1=ElectricCar(\"Honda\",\"reborn\",2018)"
   ]
  },
  {
   "cell_type": "code",
   "execution_count": 8,
   "metadata": {},
   "outputs": [
    {
     "data": {
      "text/plain": [
       "'2018 Honda Reborn'"
      ]
     },
     "execution_count": 8,
     "metadata": {},
     "output_type": "execute_result"
    }
   ],
   "source": [
    "ecar1.get_descriptive_name()"
   ]
  },
  {
   "cell_type": "code",
   "execution_count": 9,
   "metadata": {},
   "outputs": [
    {
     "name": "stdout",
     "output_type": "stream",
     "text": [
      "This car has 0 miles on it.\n"
     ]
    }
   ],
   "source": [
    "ecar1.read_odometer()"
   ]
  },
  {
   "cell_type": "code",
   "execution_count": 17,
   "metadata": {},
   "outputs": [],
   "source": [
    "class Battery():\n",
    "    def __init__(self,size,amp,plates,comp):\n",
    "        self.batterySize=size\n",
    "        self.amp=amp\n",
    "        self.plates=plates\n",
    "        self.comp=comp\n",
    "    def getBatterySize(self):\n",
    "        print(f\"The battery size is {self.batterySize}\")\n",
    "    def setBatterySize(self,newBatterySize):\n",
    "        self.batterySize=newBatterySize"
   ]
  },
  {
   "cell_type": "code",
   "execution_count": 18,
   "metadata": {},
   "outputs": [],
   "source": [
    "'''class Engine():\n",
    "    def __init__(self,power,piston):\n",
    "        self.power=power\n",
    "        self.piston=piston"
   ]
  },
  {
   "cell_type": "code",
   "execution_count": 22,
   "metadata": {},
   "outputs": [],
   "source": [
    "class ElectricCar(Car):\n",
    "    def __init__(self,make,model,year):\n",
    "        super(). __init__(make,model,year)\n",
    "        self.engine=\"2000CC\"\n",
    "        self.software=\"Android\"\n",
    "        self.battery=Battery(100,\"200amp\",27,\"AGS\")\n",
    "    def getFuelTankCapacity(self): #redefined parent class function in child class\n",
    "        print(\"Electric car does not have fuel tank\")"
   ]
  },
  {
   "cell_type": "code",
   "execution_count": 23,
   "metadata": {},
   "outputs": [
    {
     "ename": "AttributeError",
     "evalue": "'int' object has no attribute 'getBatterySize'",
     "output_type": "error",
     "traceback": [
      "\u001b[1;31m---------------------------------------------------------------------------\u001b[0m",
      "\u001b[1;31mAttributeError\u001b[0m                            Traceback (most recent call last)",
      "\u001b[1;32m<ipython-input-23-01ad251b58f3>\u001b[0m in \u001b[0;36m<module>\u001b[1;34m\u001b[0m\n\u001b[1;32m----> 1\u001b[1;33m \u001b[0mecar1\u001b[0m\u001b[1;33m.\u001b[0m\u001b[0mbattery\u001b[0m\u001b[1;33m.\u001b[0m\u001b[0mgetBatterySize\u001b[0m\u001b[1;33m(\u001b[0m\u001b[1;33m)\u001b[0m\u001b[1;33m\u001b[0m\u001b[1;33m\u001b[0m\u001b[0m\n\u001b[0m",
      "\u001b[1;31mAttributeError\u001b[0m: 'int' object has no attribute 'getBatterySize'"
     ]
    }
   ],
   "source": [
    "ecar1.battery.getBatterySize()"
   ]
  },
  {
   "cell_type": "markdown",
   "metadata": {},
   "source": [
    "# FILE HANDLING"
   ]
  },
  {
   "cell_type": "code",
   "execution_count": 35,
   "metadata": {},
   "outputs": [
    {
     "name": "stdout",
     "output_type": "stream",
     "text": [
      "studying python\n",
      "studying python\n"
     ]
    }
   ],
   "source": [
    "with open(\"piaic.txt\",\"w\") as file:\n",
    "    file.write(\"studying python\")\n",
    "    \n",
    "with open(\"piaic.txt\",\"r\") as reader:\n",
    "    print(reader.read())\n",
    "    reader.seek(0)\n",
    "    print(reader.read())"
   ]
  },
  {
   "cell_type": "code",
   "execution_count": 38,
   "metadata": {},
   "outputs": [],
   "source": [
    "with open(\"piaic.txt\",\"a\") as file:\n",
    "    file.write(\" and chilling here\")"
   ]
  },
  {
   "cell_type": "code",
   "execution_count": 39,
   "metadata": {},
   "outputs": [],
   "source": [
    "# \"W\" ka matlab write \"r\" ka matlab read aur \"a\" ka matlab append krna aur append function bhi file create krta hai\n",
    "# \"r+\" read bhi krta hai aur write bhin krta hai"
   ]
  },
  {
   "cell_type": "code",
   "execution_count": 42,
   "metadata": {},
   "outputs": [
    {
     "name": "stdout",
     "output_type": "stream",
     "text": [
      "lling hereand chilling hereand chilling here\n"
     ]
    }
   ],
   "source": [
    "with open(\"piaic.txt\",\"r+\") as file:\n",
    "    file.write(\"hello friends and fans\")\n",
    "    print(file.read())"
   ]
  },
  {
   "cell_type": "code",
   "execution_count": 44,
   "metadata": {},
   "outputs": [],
   "source": [
    "#uper wala cell main is ny pehly \"hello friends and fans\" write kia phir us ky baad jo bhi tha usy read kr dia"
   ]
  },
  {
   "cell_type": "code",
   "execution_count": 45,
   "metadata": {},
   "outputs": [],
   "source": [
    "#FILE HANDLING K KUCH FUNCTIONS HAIN JAISY READLINE , WRITE LINE WAGHERA UN KO HAMAIN KHUD EXPLORE KRNA HAI"
   ]
  },
  {
   "cell_type": "code",
   "execution_count": 46,
   "metadata": {},
   "outputs": [],
   "source": [
    "with open(\"piaic.txt\",\"r+\") as file:\n",
    "    file.write(\"hello friends and fans\")\n",
    "    file.readline?"
   ]
  },
  {
   "cell_type": "code",
   "execution_count": 47,
   "metadata": {},
   "outputs": [],
   "source": [
    "print?"
   ]
  },
  {
   "cell_type": "code",
   "execution_count": null,
   "metadata": {},
   "outputs": [],
   "source": []
  }
 ],
 "metadata": {
  "kernelspec": {
   "display_name": "Python 3",
   "language": "python",
   "name": "python3"
  },
  "language_info": {
   "codemirror_mode": {
    "name": "ipython",
    "version": 3
   },
   "file_extension": ".py",
   "mimetype": "text/x-python",
   "name": "python",
   "nbconvert_exporter": "python",
   "pygments_lexer": "ipython3",
   "version": "3.7.3"
  }
 },
 "nbformat": 4,
 "nbformat_minor": 2
}
