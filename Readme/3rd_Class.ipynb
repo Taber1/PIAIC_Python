{
 "cells": [
  {
   "cell_type": "code",
   "execution_count": null,
   "metadata": {},
   "outputs": [],
   "source": [
    "#data types\n",
    "a=2\n",
    "b=12.3\n",
    "c=True\n",
    "d=\"string\""
   ]
  },
  {
   "cell_type": "code",
   "execution_count": 1,
   "metadata": {},
   "outputs": [
    {
     "data": {
      "text/plain": [
       "5"
      ]
     },
     "execution_count": 1,
     "metadata": {},
     "output_type": "execute_result"
    }
   ],
   "source": [
    "13%8"
   ]
  },
  {
   "cell_type": "code",
   "execution_count": 2,
   "metadata": {},
   "outputs": [
    {
     "data": {
      "text/plain": [
       "13"
      ]
     },
     "execution_count": 2,
     "metadata": {},
     "output_type": "execute_result"
    }
   ],
   "source": [
    "num = 12\n",
    "num +=1 #increment operator\n",
    "num"
   ]
  },
  {
   "cell_type": "code",
   "execution_count": 3,
   "metadata": {},
   "outputs": [
    {
     "data": {
      "text/plain": [
       "11"
      ]
     },
     "execution_count": 3,
     "metadata": {},
     "output_type": "execute_result"
    }
   ],
   "source": [
    "num =12\n",
    "num -=1  #decrement operator\n",
    "num"
   ]
  },
  {
   "cell_type": "code",
   "execution_count": 4,
   "metadata": {},
   "outputs": [
    {
     "data": {
      "text/plain": [
       "24"
      ]
     },
     "execution_count": 4,
     "metadata": {},
     "output_type": "execute_result"
    }
   ],
   "source": [
    "num=12\n",
    "num *=2\n",
    "num"
   ]
  },
  {
   "cell_type": "code",
   "execution_count": 5,
   "metadata": {},
   "outputs": [
    {
     "data": {
      "text/plain": [
       "12.0"
      ]
     },
     "execution_count": 5,
     "metadata": {},
     "output_type": "execute_result"
    }
   ],
   "source": [
    "num =24\n",
    "num /=2\n",
    "num"
   ]
  },
  {
   "cell_type": "code",
   "execution_count": 6,
   "metadata": {},
   "outputs": [
    {
     "name": "stdout",
     "output_type": "stream",
     "text": [
      "enter your age19\n",
      "enter your name as welltaber\n",
      "my name is taber and age is 19\n"
     ]
    }
   ],
   "source": [
    "age=input(\"enter your age: \")\n",
    "name=input(\"enter your name as well: \")\n",
    "print(\"my name is \"+name+\" and age is \"+str(age)) #by default user input is string"
   ]
  },
  {
   "cell_type": "code",
   "execution_count": 7,
   "metadata": {},
   "outputs": [
    {
     "name": "stdout",
     "output_type": "stream",
     "text": [
      "enter your age: 13\n",
      "enter your name as well: huzaifa\n",
      "my name is huzaifa and age is 1313\n"
     ]
    }
   ],
   "source": [
    "age=input(\"enter your age: \")\n",
    "name=input(\"enter your name as well: \")\n",
    "print(\"my name is \"+name+\" and age is \"+age+age) #here age doesnot add but it cancatinate because it is string by default"
   ]
  },
  {
   "cell_type": "code",
   "execution_count": 9,
   "metadata": {},
   "outputs": [
    {
     "name": "stdout",
     "output_type": "stream",
     "text": [
      "enter your age: 13\n",
      "enter your name as well: john\n",
      "my name is john and age is 26\n"
     ]
    }
   ],
   "source": [
    "age=int(input(\"enter your age: \"))\n",
    "name=input(\"enter your name as well: \")\n",
    "print(\"my name is \"+name+\" and age is \"+str(age+age)) "
   ]
  },
  {
   "cell_type": "code",
   "execution_count": 10,
   "metadata": {},
   "outputs": [
    {
     "name": "stdout",
     "output_type": "stream",
     "text": [
      "enter your age: 13\n",
      "enter your name as well: agent barten\n",
      "my name is agent barten and age is 13 \n"
     ]
    }
   ],
   "source": [
    "age=int(input(\"enter your age: \"))\n",
    "name=input(\"enter your name as well: \")\n",
    "print(\"my name is {} and age is {} \".format(name,age)) # another way of cancatination"
   ]
  },
  {
   "cell_type": "code",
   "execution_count": 11,
   "metadata": {},
   "outputs": [
    {
     "name": "stdout",
     "output_type": "stream",
     "text": [
      "enter your age: 13\n",
      "enter your name as well: iron man\n",
      "my name is 13 and age is iron man \n"
     ]
    }
   ],
   "source": [
    "age=int(input(\"enter your age: \"))\n",
    "name=input(\"enter your name as well: \")\n",
    "print(\"my name is {1} and age is {0} \".format(name,age)) # another way of cancatination"
   ]
  },
  {
   "cell_type": "code",
   "execution_count": 12,
   "metadata": {},
   "outputs": [
    {
     "name": "stdout",
     "output_type": "stream",
     "text": [
      "enter your age: 14\n",
      "enter your name as well: steve rogers\n",
      "my name is steve rogers and age is 14\n"
     ]
    }
   ],
   "source": [
    "age=int(input(\"enter your age: \"))\n",
    "name=input(\"enter your name as well: \")\n",
    "print(f\"my name is {name} and age is {age}\")   # another way of cancatination"
   ]
  },
  {
   "cell_type": "markdown",
   "metadata": {},
   "source": [
    "## IF STATEMENT"
   ]
  },
  {
   "cell_type": "code",
   "execution_count": 15,
   "metadata": {},
   "outputs": [
    {
     "name": "stdout",
     "output_type": "stream",
     "text": [
      "b bara hai\n",
      "a chhota hai\n",
      "ab if ki body sy bahar agaya hai\n"
     ]
    }
   ],
   "source": [
    "a=2\n",
    "b=2.2                 # if ki body ka jo gap ata hai woh indentation kehlata hai\n",
    "if b>a:\n",
    "    print(\"b bara hai\")\n",
    "    print(\"a chhota hai\")\n",
    "print(\"ab if ki body sy bahar agaya hai\")"
   ]
  },
  {
   "cell_type": "code",
   "execution_count": 22,
   "metadata": {},
   "outputs": [
    {
     "name": "stdout",
     "output_type": "stream",
     "text": [
      "Enter any number to check whether it is 'EVEN' or 'ODD' :12\n",
      "it is even number\n"
     ]
    }
   ],
   "source": [
    "num = int(input(\"Enter any number to check whether it is 'EVEN' or 'ODD' :\"))\n",
    "if num%2==0:\n",
    "    print(\"it is even number\")\n",
    "else:\n",
    "    print(\"it is an odd number\")"
   ]
  },
  {
   "cell_type": "code",
   "execution_count": 24,
   "metadata": {
    "scrolled": true
   },
   "outputs": [
    {
     "name": "stdout",
     "output_type": "stream",
     "text": [
      "Enter any number to check whether it is 'EVEN' or 'ODD' :13\n",
      "it is odd number\n"
     ]
    }
   ],
   "source": [
    "num = int(input(\"Enter any number to check whether it is 'EVEN' or 'ODD' :\"))\n",
    "if num%2==1:\n",
    "    print(\"it is odd number\")\n",
    "else:\n",
    "    print(\"it is an even number\")"
   ]
  },
  {
   "cell_type": "code",
   "execution_count": null,
   "metadata": {},
   "outputs": [],
   "source": []
  }
 ],
 "metadata": {
  "kernelspec": {
   "display_name": "Python 3",
   "language": "python",
   "name": "python3"
  },
  "language_info": {
   "codemirror_mode": {
    "name": "ipython",
    "version": 3
   },
   "file_extension": ".py",
   "mimetype": "text/x-python",
   "name": "python",
   "nbconvert_exporter": "python",
   "pygments_lexer": "ipython3",
   "version": "3.7.3"
  }
 },
 "nbformat": 4,
 "nbformat_minor": 2
}
