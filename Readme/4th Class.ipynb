{
 "cells": [
  {
   "cell_type": "markdown",
   "metadata": {},
   "source": [
    "# VOTING"
   ]
  },
  {
   "cell_type": "code",
   "execution_count": 3,
   "metadata": {},
   "outputs": [
    {
     "name": "stdout",
     "output_type": "stream",
     "text": [
      "do you have cnicYeS\n",
      "he has valid cnic\n",
      "is your name in the voter list?YeS\n",
      "you are registred to vote\n",
      "please cast vote\n"
     ]
    }
   ],
   "source": [
    "user_cnic=(input(\"do you have cnic\").lower())\n",
    "if user_cnic=='yes':\n",
    "    print(\"he has valid cnic\")\n",
    "    voter_list=(input(\"is your name in the voter list?\").lower())\n",
    "    if voter_list=='yes':\n",
    "        print(\"you are registred to vote\")\n",
    "        print(\"please cast vote\")\n",
    "    else:\n",
    "        print(\"you cannot cast vote\")\n",
    "else:\n",
    "    print(\"you cannot cast vote\")\n"
   ]
  },
  {
   "cell_type": "markdown",
   "metadata": {},
   "source": [
    "# TICKET"
   ]
  },
  {
   "cell_type": "code",
   "execution_count": 5,
   "metadata": {},
   "outputs": [
    {
     "name": "stdout",
     "output_type": "stream",
     "text": [
      "what is your age??18\n",
      "do you have a ticket??yes\n",
      "GO! Watch Movie\n"
     ]
    }
   ],
   "source": [
    "age=int(input(\"what is your age??\"))\n",
    "if age>=18:\n",
    "    ticket=input(\"do you have a ticket??\")\n",
    "    if ticket.lower()=='yes':\n",
    "        print(\"GO! Watch Movie\")\n",
    "    else:\n",
    "        print(\"get lost!!\")\n",
    "else:\n",
    "    print(\"sorry!!\")"
   ]
  },
  {
   "cell_type": "markdown",
   "metadata": {},
   "source": [
    "# MULTIPLE   ELSE   IF"
   ]
  },
  {
   "cell_type": "code",
   "execution_count": 11,
   "metadata": {},
   "outputs": [
    {
     "name": "stdout",
     "output_type": "stream",
     "text": [
      "Enter a number..!!  12\n",
      "Enter another number..!!  13\n",
      "12 is less than 13\n"
     ]
    }
   ],
   "source": [
    "n=int(input(\"Enter a number..!!  \"))\n",
    "m=int(input(\"Enter another number..!!  \"))\n",
    "if n>m:\n",
    "    print(f\"{n} is greater than {m}\")\n",
    "elif n==m:\n",
    "    print(f\"{n} and {m} are equal\")\n",
    "elif n<m:\n",
    "    print(f\"{n} is less than {m}\")\n",
    "else:\n",
    "    print(\"shit damnn\")"
   ]
  },
  {
   "cell_type": "markdown",
   "metadata": {},
   "source": [
    "# LOGICAL OPERATORS..."
   ]
  },
  {
   "cell_type": "code",
   "execution_count": 14,
   "metadata": {},
   "outputs": [
    {
     "name": "stdout",
     "output_type": "stream",
     "text": [
      "do you have cnicyes\n",
      "is your name in the voter list?yes\n",
      "you can cast vote\n"
     ]
    }
   ],
   "source": [
    "user_cnic=(input(\"do you have cnic :\").lower())\n",
    "voter_list=(input(\"is your name in the voter list? \").lower())\n",
    "if user_cnic=='yes' and voter_list=='yes':\n",
    "    print(\"you can cast vote\")\n",
    "else:\n",
    "    print(\"sorry brader..!!\")"
   ]
  },
  {
   "cell_type": "code",
   "execution_count": null,
   "metadata": {},
   "outputs": [],
   "source": []
  }
 ],
 "metadata": {
  "kernelspec": {
   "display_name": "Python 3",
   "language": "python",
   "name": "python3"
  },
  "language_info": {
   "codemirror_mode": {
    "name": "ipython",
    "version": 3
   },
   "file_extension": ".py",
   "mimetype": "text/x-python",
   "name": "python",
   "nbconvert_exporter": "python",
   "pygments_lexer": "ipython3",
   "version": "3.7.3"
  }
 },
 "nbformat": 4,
 "nbformat_minor": 2
}
