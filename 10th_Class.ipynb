{
 "cells": [
  {
   "cell_type": "markdown",
   "metadata": {},
   "source": [
    "## 9.2"
   ]
  },
  {
   "cell_type": "code",
   "execution_count": 4,
   "metadata": {},
   "outputs": [],
   "source": [
    "class Restaurant():\n",
    "    def __init__(self,name,cuisine_type):\n",
    "        self.name=name\n",
    "        self.cuisine_type=cuisine_type\n",
    "    def describe_restaurant(self):\n",
    "        print(f\"The Name of Restaurant is {self.name.title()}\")\n",
    "        print(f\"The Cuisine Type of Restaurant is {self.cuisine_type.title()}\")\n",
    "    def open_restaurant(self):\n",
    "        print(\"The Restaurant is now Open..!!!\")"
   ]
  },
  {
   "cell_type": "code",
   "execution_count": 6,
   "metadata": {},
   "outputs": [],
   "source": [
    "r1=Restaurant(\"Howdy\",\"Fast Food\")\n",
    "r2=Restaurant(\"Shinwari\",\"Desi Food\")"
   ]
  },
  {
   "cell_type": "code",
   "execution_count": 7,
   "metadata": {},
   "outputs": [
    {
     "name": "stdout",
     "output_type": "stream",
     "text": [
      "The Name of Restaurant is Howdy\n",
      "The Cuisine Type of Restaurant is Fast Food\n"
     ]
    }
   ],
   "source": [
    "r1.describe_restaurant()"
   ]
  },
  {
   "cell_type": "code",
   "execution_count": 8,
   "metadata": {},
   "outputs": [
    {
     "name": "stdout",
     "output_type": "stream",
     "text": [
      "The Name of Restaurant is Shinwari\n",
      "The Cuisine Type of Restaurant is Desi Food\n"
     ]
    }
   ],
   "source": [
    "r2.describe_restaurant()"
   ]
  },
  {
   "cell_type": "markdown",
   "metadata": {},
   "source": [
    "## 9.3"
   ]
  },
  {
   "cell_type": "code",
   "execution_count": 46,
   "metadata": {},
   "outputs": [],
   "source": [
    "class Users():\n",
    "    def __init__(self,first_name,last_name):\n",
    "        self.first_name=first_name\n",
    "        self.last_name=last_name\n",
    "        self.email=0\n",
    "        self.password=0\n",
    "    def describe_user(self):\n",
    "        print(f\"The first name of User is {self.first_name}\")\n",
    "        print(f\"The last name of User is {self.last_name}\")\n",
    "        print(f\"The email address of User is {self.email}\")\n",
    "        print(f\"The password of User if {self.password}\")\n",
    "    def greet_user(self):\n",
    "        print(f\"Welcome {self.first_name} {self.last_name}!!\")\n",
    "        "
   ]
  },
  {
   "cell_type": "code",
   "execution_count": 49,
   "metadata": {},
   "outputs": [
    {
     "name": "stdout",
     "output_type": "stream",
     "text": [
      "The first name of User is Taber\n",
      "The last name of User is Zameer\n",
      "The email address of User is tbzameer@gmail.com\n",
      "The password of User if 12345\n",
      "Welcome Taber Zameer!!\n"
     ]
    }
   ],
   "source": [
    "u1=Users(\"Taber\",\"Zameer\")\n",
    "u1.email=\"tbzameer@gmail.com\"\n",
    "u1.password=\"12345\"\n",
    "u1.describe_user()\n",
    "u1.greet_user()"
   ]
  },
  {
   "cell_type": "markdown",
   "metadata": {},
   "source": [
    "## 9.5"
   ]
  },
  {
   "cell_type": "code",
   "execution_count": 35,
   "metadata": {},
   "outputs": [],
   "source": [
    "class Users():\n",
    "    def __init__(self,first_name,last_name,email,password):\n",
    "        self.first_name=first_name\n",
    "        self.last_name=last_name\n",
    "        self.email=email\n",
    "        self.password=password\n",
    "        self.login_attempts=0\n",
    "    def describe_user(self):\n",
    "        print(f\"The first name of User is {self.first_name}\")\n",
    "        print(f\"The last name of User is {self.last_name}\")\n",
    "        print(f\"The email address of User is {self.email}\")\n",
    "        print(f\"The password of User if {self.password}\")\n",
    "    def greet_user(self):\n",
    "        print(f\"Welcome {self.first_name} {self.last_name}!!\")\n",
    "    def increment_login_attempts(self):\n",
    "        self.login_attempts+=1\n",
    "        print(f\"The login attempts are {self.login_attempts}\")\n",
    "    def reset_login_attempts(self):\n",
    "        self.login_attempts=0\n",
    "        print(f\"The login attempts are now {self.login_attempts}\")"
   ]
  },
  {
   "cell_type": "code",
   "execution_count": 36,
   "metadata": {},
   "outputs": [],
   "source": [
    "user1=Users(\"Hussain\",\"Shafi\",\"hussainshafi@gmail.com\",\"123\")"
   ]
  },
  {
   "cell_type": "code",
   "execution_count": 37,
   "metadata": {},
   "outputs": [
    {
     "name": "stdout",
     "output_type": "stream",
     "text": [
      "The first name of User is Hussain\n",
      "The last name of User is Shafi\n",
      "The email address of User is hussainshafi@gmail.com\n",
      "The password of User if 123\n"
     ]
    }
   ],
   "source": [
    "user1.describe_user()"
   ]
  },
  {
   "cell_type": "code",
   "execution_count": 38,
   "metadata": {},
   "outputs": [
    {
     "name": "stdout",
     "output_type": "stream",
     "text": [
      "The login attempts are 1\n"
     ]
    }
   ],
   "source": [
    "user1.increment_login_attempts()"
   ]
  },
  {
   "cell_type": "code",
   "execution_count": 39,
   "metadata": {},
   "outputs": [
    {
     "name": "stdout",
     "output_type": "stream",
     "text": [
      "The login attempts are now 0\n"
     ]
    }
   ],
   "source": [
    "user1.reset_login_attempts()"
   ]
  },
  {
   "cell_type": "code",
   "execution_count": null,
   "metadata": {},
   "outputs": [],
   "source": []
  }
 ],
 "metadata": {
  "kernelspec": {
   "display_name": "Python 3",
   "language": "python",
   "name": "python3"
  },
  "language_info": {
   "codemirror_mode": {
    "name": "ipython",
    "version": 3
   },
   "file_extension": ".py",
   "mimetype": "text/x-python",
   "name": "python",
   "nbconvert_exporter": "python",
   "pygments_lexer": "ipython3",
   "version": "3.7.3"
  }
 },
 "nbformat": 4,
 "nbformat_minor": 2
}
