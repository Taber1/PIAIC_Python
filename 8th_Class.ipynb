{
 "cells": [
  {
   "cell_type": "code",
   "execution_count": 6,
   "metadata": {},
   "outputs": [
    {
     "name": "stdout",
     "output_type": "stream",
     "text": [
      "My name is Taber\n"
     ]
    }
   ],
   "source": [
    "def name():\n",
    "    print(\"My name is Taber\")\n",
    "name()"
   ]
  },
  {
   "cell_type": "code",
   "execution_count": 3,
   "metadata": {},
   "outputs": [
    {
     "name": "stdout",
     "output_type": "stream",
     "text": [
      "16\n"
     ]
    }
   ],
   "source": [
    "def cal(a,b):\n",
    "    c=a+b\n",
    "    print(c)\n",
    "cal(9,7)"
   ]
  },
  {
   "cell_type": "code",
   "execution_count": 5,
   "metadata": {},
   "outputs": [
    {
     "data": {
      "text/plain": [
       "6"
      ]
     },
     "execution_count": 5,
     "metadata": {},
     "output_type": "execute_result"
    }
   ],
   "source": [
    "def cal1(a,b):\n",
    "    d=a-b\n",
    "    return d\n",
    "n=cal1(9,3)\n",
    "n"
   ]
  },
  {
   "cell_type": "code",
   "execution_count": 11,
   "metadata": {},
   "outputs": [
    {
     "name": "stdout",
     "output_type": "stream",
     "text": [
      "Hello umer\n",
      "Hello hamza\n"
     ]
    }
   ],
   "source": [
    "def name1(friends):\n",
    "    for friend in friends:\n",
    "        a=\"Hello \"+friend>title() #title the word\n",
    "        print(a)\n",
    "friends=[\"umer\",\"hamza\"]\n",
    "name1(friends)"
   ]
  },
  {
   "cell_type": "markdown",
   "metadata": {},
   "source": [
    "# KEYWORD PARAMETER"
   ]
  },
  {
   "cell_type": "code",
   "execution_count": 12,
   "metadata": {},
   "outputs": [
    {
     "name": "stdout",
     "output_type": "stream",
     "text": [
      "My name is Taber and my father name is Zameer\n"
     ]
    }
   ],
   "source": [
    "def family(my_name,f_name):\n",
    "    print(f\"My name is {my_name} and my father name is {f_name}\")\n",
    "family(f_name=\"Zameer\",my_name=\"Taber\")"
   ]
  },
  {
   "cell_type": "code",
   "execution_count": 13,
   "metadata": {},
   "outputs": [
    {
     "name": "stdout",
     "output_type": "stream",
     "text": [
      "My name is Taber, I am male and 19 years old\n"
     ]
    }
   ],
   "source": [
    "def my_bio(name,age,gender):\n",
    "    print(f\"My name is {name}, I am {gender} and {age} years old\")\n",
    "my_bio(age=19,name=\"Taber\",gender=\"male\")"
   ]
  },
  {
   "cell_type": "markdown",
   "metadata": {},
   "source": [
    "# DEFAULT PARAMETER"
   ]
  },
  {
   "cell_type": "markdown",
   "metadata": {},
   "source": [
    "DEFAULT  PARAMETER  HAMESHA  AAKHIR  MAIN  ATA  HAI"
   ]
  },
  {
   "cell_type": "markdown",
   "metadata": {},
   "source": [
    "KEYWORD  ARGUEMENT  BHI  HAMESHA  AKHIR  MAIN  ATA  HAI "
   ]
  },
  {
   "cell_type": "code",
   "execution_count": 18,
   "metadata": {},
   "outputs": [
    {
     "name": "stdout",
     "output_type": "stream",
     "text": [
      "i live in malir\n",
      "i have samsung\n",
      "i love to drive toyota\n"
     ]
    }
   ],
   "source": [
    "def things(home,mobile=\"samsung\",car=\"toyota\"):\n",
    "    print(f\"i live in {home}\")\n",
    "    print(f\"i have {mobile}\")\n",
    "    print(f\"i love to drive {car}\")\n",
    "\n",
    "things(\"malir\")"
   ]
  },
  {
   "cell_type": "code",
   "execution_count": 27,
   "metadata": {},
   "outputs": [
    {
     "name": "stdout",
     "output_type": "stream",
     "text": [
      "I studied matric from WHGS\n",
      "I studied in Bahria college\n",
      "I am from NED\n"
     ]
    }
   ],
   "source": [
    "def education(matric,college,uni=\" \"):\n",
    "    print(f\"I studied matric from {matric}\")\n",
    "    print(f\"I studied in {college} college\")\n",
    "    if uni!=\" \":\n",
    "        print(f\"I am from {uni}\")\n",
    "    \n",
    "education(\"WHGS\",\"Bahria\",\"NED\")"
   ]
  },
  {
   "cell_type": "code",
   "execution_count": 23,
   "metadata": {},
   "outputs": [
    {
     "name": "stdout",
     "output_type": "stream",
     "text": [
      "2 3 ()\n"
     ]
    }
   ],
   "source": [
    "def func(a,b,*c):\n",
    "    print(a,b,c)\n",
    "    \n",
    "func(2,3)"
   ]
  },
  {
   "cell_type": "code",
   "execution_count": 24,
   "metadata": {},
   "outputs": [
    {
     "name": "stdout",
     "output_type": "stream",
     "text": [
      "2 3 (4, 5, 6, 7)\n"
     ]
    }
   ],
   "source": [
    "func(2,3,4,5,6,7)"
   ]
  },
  {
   "cell_type": "code",
   "execution_count": 39,
   "metadata": {},
   "outputs": [
    {
     "name": "stdout",
     "output_type": "stream",
     "text": [
      "Taber Zameer\n"
     ]
    }
   ],
   "source": [
    "def full_name(f_name,l_name,m_name=\"\"):\n",
    "    if m_name!=\"\":\n",
    "        fullname=f_name+\" \"+m_name+\" \"+l_name\n",
    "        print(fullname)\n",
    "    else:\n",
    "        fullname=f_name+\" \"+l_name\n",
    "        print(fullname)\n",
    "\n",
    "full_name(\"Taber\",\"Zameer\")"
   ]
  },
  {
   "cell_type": "code",
   "execution_count": 40,
   "metadata": {},
   "outputs": [
    {
     "name": "stdout",
     "output_type": "stream",
     "text": [
      "Taber Bin Zameer\n"
     ]
    }
   ],
   "source": [
    "full_name(\"Taber\",\"Zameer\",\"Bin\")"
   ]
  },
  {
   "cell_type": "markdown",
   "metadata": {},
   "source": [
    "# 48.USING FUNCTIONS AS VARIABLES(WHICH IS WHAT THEY REALLY ARE)"
   ]
  },
  {
   "cell_type": "code",
   "execution_count": 45,
   "metadata": {},
   "outputs": [
    {
     "name": "stdout",
     "output_type": "stream",
     "text": [
      "1000\n"
     ]
    },
    {
     "ename": "TypeError",
     "evalue": "unsupported operand type(s) for +: 'NoneType' and 'int'",
     "output_type": "error",
     "traceback": [
      "\u001b[1;31m---------------------------------------------------------------------------\u001b[0m",
      "\u001b[1;31mTypeError\u001b[0m                                 Traceback (most recent call last)",
      "\u001b[1;32m<ipython-input-45-61a3953d2777>\u001b[0m in \u001b[0;36m<module>\u001b[1;34m\u001b[0m\n\u001b[0;32m      5\u001b[0m     \u001b[1;32mreturn\u001b[0m \u001b[0mbasic\u001b[0m\u001b[1;33m\u001b[0m\u001b[1;33m\u001b[0m\u001b[0m\n\u001b[0;32m      6\u001b[0m \u001b[1;33m\u001b[0m\u001b[0m\n\u001b[1;32m----> 7\u001b[1;33m \u001b[0mgross\u001b[0m\u001b[1;33m=\u001b[0m\u001b[0mcommission\u001b[0m\u001b[1;33m(\u001b[0m\u001b[1;36m1000\u001b[0m\u001b[1;33m)\u001b[0m\u001b[1;33m+\u001b[0m\u001b[0mbasic\u001b[0m\u001b[1;33m(\u001b[0m\u001b[1;36m10000\u001b[0m\u001b[1;33m)\u001b[0m\u001b[1;33m\u001b[0m\u001b[1;33m\u001b[0m\u001b[0m\n\u001b[0m\u001b[0;32m      8\u001b[0m \u001b[0mgross\u001b[0m\u001b[1;33m\u001b[0m\u001b[1;33m\u001b[0m\u001b[0m\n",
      "\u001b[1;31mTypeError\u001b[0m: unsupported operand type(s) for +: 'NoneType' and 'int'"
     ]
    }
   ],
   "source": [
    "def commission(commission):\n",
    "    print(commission)\n",
    "    #return commission\n",
    "def basic(basic):\n",
    "    return basic\n",
    "\n",
    "gross=commission(1000)+basic(10000)\n",
    "gross"
   ]
  },
  {
   "cell_type": "code",
   "execution_count": 51,
   "metadata": {},
   "outputs": [
    {
     "data": {
      "text/plain": [
       "11000"
      ]
     },
     "execution_count": 51,
     "metadata": {},
     "output_type": "execute_result"
    }
   ],
   "source": [
    "def commission(commission):\n",
    "    #print(commission)\n",
    "    return commission\n",
    "def basic(basic):\n",
    "    return basic\n",
    "\n",
    "gross=commission(1000)+basic(10000)\n",
    "gross"
   ]
  },
  {
   "cell_type": "markdown",
   "metadata": {},
   "source": [
    "# FUNCTIONS: Local vs Global Variables"
   ]
  },
  {
   "cell_type": "code",
   "execution_count": 63,
   "metadata": {},
   "outputs": [
    {
     "name": "stdout",
     "output_type": "stream",
     "text": [
      "The total Pay is 1012000.0\n"
     ]
    }
   ],
   "source": [
    "totalPay=0                        ##GLOBAL VARIABLE\n",
    "def commissionCal(salesValue):\n",
    "    if salesValue>10000:\n",
    "        percent=10                 ##LOCAL VARIABLE\n",
    "        commission=salesValue/100*percent\n",
    "        return commission\n",
    "def paid(basic):\n",
    "    totalPay = basic+commissionCal(120000)\n",
    "    return totalPay \n",
    "\n",
    "    \n",
    "print(f\"The total Pay is {paid(1000000)}\")"
   ]
  },
  {
   "cell_type": "markdown",
   "metadata": {},
   "source": [
    "# WHILE LOOPS"
   ]
  },
  {
   "cell_type": "code",
   "execution_count": 69,
   "metadata": {},
   "outputs": [
    {
     "name": "stdout",
     "output_type": "stream",
     "text": [
      "1 chhota hai 10 sy\n",
      "2 chhota hai 10 sy\n",
      "3 chhota hai 10 sy\n",
      "4 chhota hai 10 sy\n",
      "5 chhota hai 10 sy\n",
      "6 chhota hai 10 sy\n",
      "7 chhota hai 10 sy\n",
      "8 chhota hai 10 sy\n",
      "9 chhota hai 10 sy\n"
     ]
    }
   ],
   "source": [
    "a=1\n",
    "while a<10:\n",
    "    print(f\"{a} chhota hai 10 sy\")\n",
    "    a+=1"
   ]
  },
  {
   "cell_type": "code",
   "execution_count": 70,
   "metadata": {},
   "outputs": [
    {
     "name": "stdout",
     "output_type": "stream",
     "text": [
      "Enter your name :a\n",
      "a\n",
      "Enter your name :s\n",
      "s\n",
      "Enter your name :d\n",
      "d\n",
      "Enter your name :f\n",
      "f\n",
      "Enter your name :hg\n",
      "hg\n",
      "Enter your name :h\n",
      "h\n",
      "Enter your name :j\n",
      "j\n",
      "Enter your name :k\n",
      "k\n",
      "Enter your name :\n",
      "\n",
      "Enter your name :l\n",
      "l\n"
     ]
    }
   ],
   "source": [
    "for a in range(10):\n",
    "    name=input(\"Enter your name :\")\n",
    "    print(name)"
   ]
  },
  {
   "cell_type": "code",
   "execution_count": 72,
   "metadata": {},
   "outputs": [
    {
     "name": "stdout",
     "output_type": "stream",
     "text": [
      "Enter your name :taber\n",
      "taber\n",
      "Enter your name :bilal\n",
      "bilal\n",
      "Enter your name :hussain\n",
      "hussain\n"
     ]
    }
   ],
   "source": [
    "flag = True\n",
    "while flag:\n",
    "    name=input(\"Enter your name :\")\n",
    "    print(name)\n",
    "    if name==\"hussain\":\n",
    "        flag = False"
   ]
  },
  {
   "cell_type": "code",
   "execution_count": 74,
   "metadata": {},
   "outputs": [
    {
     "name": "stdout",
     "output_type": "stream",
     "text": [
      "\n",
      "(Enter 'quit' when you are finished:)Paris\n",
      "I had love to go Paris\n",
      "\n",
      "(Enter 'quit' when you are finished:)quit\n"
     ]
    }
   ],
   "source": [
    "prompt=\"\\nPlease enter the name of a city you have visited:\"\n",
    "prompt=\"\\n(Enter 'quit' when you are finished:)\"\n",
    "while True:\n",
    "    city=input(prompt)\n",
    "    if city=='quit':\n",
    "        break\n",
    "    else:\n",
    "        print(f\"I had love to go {city.title()}\")\n",
    "    "
   ]
  },
  {
   "cell_type": "code",
   "execution_count": 5,
   "metadata": {},
   "outputs": [
    {
     "name": "stdout",
     "output_type": "stream",
     "text": [
      "\n",
      "Please enter the topping of Pizza:\n",
      "\n",
      "(Enter 'quit' when you are finished:)olive\n",
      "I wanna add Olive\n",
      "\n",
      "(Enter 'quit' when you are finished:)mashroom\n",
      "I wanna add Mashroom\n",
      "\n",
      "(Enter 'quit' when you are finished:)quit\n"
     ]
    }
   ],
   "source": [
    "pizza=\"\\nPlease enter the topping of Pizza:\"\n",
    "print(pizza)\n",
    "Pizza=\"\\n(Enter 'quit' when you are finished:)\"\n",
    "while True:\n",
    "    pizzaTopping=input(Pizza)\n",
    "    if pizzaTopping=='quit':\n",
    "        break\n",
    "    else:\n",
    "        print(f\"I wanna add {pizzaTopping.title()}\")"
   ]
  },
  {
   "cell_type": "code",
   "execution_count": null,
   "metadata": {},
   "outputs": [],
   "source": [
    "while True:\n",
    "    age=input(\"Enter your age or 'quit' to quit:\")\n",
    "    if age<3:\n",
    "        print(\"Your ticket is free\")\n",
    "    elif age>=3 and age<12:\n",
    "        print(\"The cost of ticket is $10\")\n",
    "    elif age>=12:\n",
    "        print(\"The cost of ticket is $15\")\n",
    "    elif age==\"quit\":\n",
    "        break\n"
   ]
  },
  {
   "cell_type": "code",
   "execution_count": null,
   "metadata": {},
   "outputs": [],
   "source": []
  }
 ],
 "metadata": {
  "kernelspec": {
   "display_name": "Python 3",
   "language": "python",
   "name": "python3"
  },
  "language_info": {
   "codemirror_mode": {
    "name": "ipython",
    "version": 3
   },
   "file_extension": ".py",
   "mimetype": "text/x-python",
   "name": "python",
   "nbconvert_exporter": "python",
   "pygments_lexer": "ipython3",
   "version": "3.7.3"
  }
 },
 "nbformat": 4,
 "nbformat_minor": 2
}
